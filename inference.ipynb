{
 "cells": [
  {
   "cell_type": "markdown",
   "id": "a93581f3-9096-4c02-804a-78b5db1a83f1",
   "metadata": {
    "tags": []
   },
   "source": [
    "## Setup"
   ]
  },
  {
   "cell_type": "code",
   "execution_count": 1,
   "id": "7cb843ce-65b7-4fd3-9c56-0726ce7323bb",
   "metadata": {},
   "outputs": [],
   "source": [
    "from datasets import Dataset,DatasetDict\n",
    "import matplotlib.pyplot as plt\n",
    "import numpy as np\n",
    "import pandas as pd\n",
    "from pathlib import Path\n",
    "from transformers import AutoModelForSequenceClassification,AutoTokenizer, AutoConfig\n",
    "from transformers import TrainingArguments, Trainer\n",
    "import torch\n",
    "import os\n",
    "import random\n",
    "from transformers import EvalPrediction, TrainerCallback\n",
    "import torch\n",
    "from sklearn.metrics import mean_squared_error\n",
    "import gc\n",
    "import transformers\n",
    "import wandb"
   ]
  },
  {
   "cell_type": "markdown",
   "id": "3baa9794-7cb4-4224-925a-7dee8d912148",
   "metadata": {},
   "source": [
    "## Constants"
   ]
  },
  {
   "cell_type": "code",
   "execution_count": 2,
   "id": "64325ad0-13af-4199-97ea-c468017308e4",
   "metadata": {},
   "outputs": [],
   "source": [
    "BASE_PATH = \"/notebooks\""
   ]
  },
  {
   "cell_type": "code",
   "execution_count": 35,
   "id": "16d049d8-b212-40db-87a8-30a27d7ded16",
   "metadata": {},
   "outputs": [],
   "source": [
    "TEST_PATH = os.path.join(BASE_PATH, 'data/test/test.csv')\n",
    "MODEL_0_DIR = os.path.join(BASE_PATH, \"trainerDEBERTA-LARGE/model_fold_0\")\n",
    "MODEL_1_DIR = os.path.join(BASE_PATH, \"trainerDEBERTA-LARGE/model_fold_1\")\n",
    "MODEL_2_DIR = os.path.join(BASE_PATH, \"trainerDEBERTA-LARGE/model_fold_2\")\n",
    "MODEL_3_DIR = os.path.join(BASE_PATH, \"trainerDEBERTA-LARGE/model_fold_3\")\n",
    "MODEL_4_DIR = os.path.join(BASE_PATH, \"trainerDEBERTA-LARGE/model_fold_4\")\n",
    "MODEL_5_DIR = os.path.join(BASE_PATH, \"trainerDEBERTA-LARGE/model_fold_5\")\n",
    "MODELS = [MODEL_0_DIR, MODEL_1_DIR, MODEL_2_DIR, MODEL_3_DIR,MODEL_4_DIR, MODEL_5_DIR]"
   ]
  },
  {
   "cell_type": "code",
   "execution_count": 36,
   "id": "0cd5ac81-1c02-4ac5-8847-f9bcb9b6abcf",
   "metadata": {},
   "outputs": [],
   "source": [
    "def seed_everything(seed=1234):\n",
    "    random.seed(seed)\n",
    "    os.environ['PYTHONHASHSEED'] = str(seed)\n",
    "    np.random.seed(seed)\n",
    "    torch.manual_seed(seed)\n",
    "    torch.cuda.manual_seed(seed)\n",
    "    torch.backends.cudnn.deterministic = True\n",
    "\n",
    "SEED = 28\n",
    "seed_everything(seed=SEED)\n",
    "MAX_LENGTH = 256\n",
    "BATCH_SIZE = 4"
   ]
  },
  {
   "cell_type": "markdown",
   "id": "b2233f68-2fa4-4e3b-a3e1-e2bff9702dcd",
   "metadata": {},
   "source": [
    "## Functions"
   ]
  },
  {
   "cell_type": "code",
   "execution_count": 37,
   "id": "1991183a-0509-4561-b146-f170462baa15",
   "metadata": {},
   "outputs": [],
   "source": [
    "def tok_func(x): return tokenizer(x[\"full_text\"],padding=\"max_length\", truncation=True, max_length = 256)"
   ]
  },
  {
   "cell_type": "code",
   "execution_count": 38,
   "id": "061d21b3-63bc-44ea-aefa-379f8236ca95",
   "metadata": {},
   "outputs": [
    {
     "data": {
      "application/vnd.jupyter.widget-view+json": {
       "model_id": "5c1099cad8064f78a01187bd6f1632a7",
       "version_major": 2,
       "version_minor": 0
      },
      "text/plain": [
       "  0%|          | 0/1 [00:00<?, ?ba/s]"
      ]
     },
     "metadata": {},
     "output_type": "display_data"
    },
    {
     "name": "stderr",
     "output_type": "stream",
     "text": [
      "***** Running Prediction *****\n",
      "  Num examples = 3\n",
      "  Batch size = 4\n"
     ]
    },
    {
     "data": {
      "application/vnd.jupyter.widget-view+json": {
       "model_id": "9357498dff0c4700b25bcfb1bd1a06a3",
       "version_major": 2,
       "version_minor": 0
      },
      "text/plain": [
       "  0%|          | 0/1 [00:00<?, ?ba/s]"
      ]
     },
     "metadata": {},
     "output_type": "display_data"
    },
    {
     "name": "stderr",
     "output_type": "stream",
     "text": [
      "***** Running Prediction *****\n",
      "  Num examples = 3\n",
      "  Batch size = 4\n"
     ]
    },
    {
     "data": {
      "application/vnd.jupyter.widget-view+json": {
       "model_id": "4d53340b49ba43fda6b59328024367a9",
       "version_major": 2,
       "version_minor": 0
      },
      "text/plain": [
       "  0%|          | 0/1 [00:00<?, ?ba/s]"
      ]
     },
     "metadata": {},
     "output_type": "display_data"
    },
    {
     "name": "stderr",
     "output_type": "stream",
     "text": [
      "***** Running Prediction *****\n",
      "  Num examples = 3\n",
      "  Batch size = 4\n"
     ]
    },
    {
     "data": {
      "application/vnd.jupyter.widget-view+json": {
       "model_id": "031e9414d30a43e29f8419e209244569",
       "version_major": 2,
       "version_minor": 0
      },
      "text/plain": [
       "  0%|          | 0/1 [00:00<?, ?ba/s]"
      ]
     },
     "metadata": {},
     "output_type": "display_data"
    },
    {
     "name": "stderr",
     "output_type": "stream",
     "text": [
      "***** Running Prediction *****\n",
      "  Num examples = 3\n",
      "  Batch size = 4\n"
     ]
    },
    {
     "data": {
      "application/vnd.jupyter.widget-view+json": {
       "model_id": "615d259d293941aa95a07c252a38a3c4",
       "version_major": 2,
       "version_minor": 0
      },
      "text/plain": [
       "  0%|          | 0/1 [00:00<?, ?ba/s]"
      ]
     },
     "metadata": {},
     "output_type": "display_data"
    },
    {
     "name": "stderr",
     "output_type": "stream",
     "text": [
      "***** Running Prediction *****\n",
      "  Num examples = 3\n",
      "  Batch size = 4\n"
     ]
    },
    {
     "data": {
      "application/vnd.jupyter.widget-view+json": {
       "model_id": "871c46bcea55490a9053af6a211fd204",
       "version_major": 2,
       "version_minor": 0
      },
      "text/plain": [
       "  0%|          | 0/1 [00:00<?, ?ba/s]"
      ]
     },
     "metadata": {},
     "output_type": "display_data"
    },
    {
     "name": "stderr",
     "output_type": "stream",
     "text": [
      "***** Running Prediction *****\n",
      "  Num examples = 3\n",
      "  Batch size = 4\n"
     ]
    }
   ],
   "source": [
    "preds_list = []\n",
    "for MODEL in MODELS:\n",
    "    transformers.logging.set_verbosity_error()\n",
    "    tokenizer = AutoTokenizer.from_pretrained(MODEL_0_DIR)\n",
    "    df_test = pd.read_csv(TEST_PATH)\n",
    "    test_dataset = Dataset.from_pandas(df_test)\n",
    "    test_dataset = test_dataset.map(tok_func, batched=True, remove_columns=[\"text_id\",\"full_text\"])\n",
    "    model = AutoModelForSequenceClassification.from_pretrained(MODEL_0_DIR)\n",
    "    # arguments for Trainer\n",
    "    test_args = TrainingArguments(\n",
    "        output_dir = MODEL_0_DIR,\n",
    "        do_train = False,\n",
    "        do_predict = True,\n",
    "        per_device_eval_batch_size = BATCH_SIZE,   \n",
    "        dataloader_drop_last = False,\n",
    "    )\n",
    "\n",
    "    # init trainer\n",
    "    trainer = Trainer(\n",
    "                  model = model, \n",
    "                  args = test_args,\n",
    "              )\n",
    "    preds = trainer.predict(test_dataset)\n",
    "    preds_list.append(torch.Tensor(preds.predictions))"
   ]
  },
  {
   "cell_type": "code",
   "execution_count": 39,
   "id": "b7fd49aa-f18e-4038-9bd6-b4b9e9eaa51f",
   "metadata": {},
   "outputs": [],
   "source": [
    "pred_tot = torch.zeros(size = preds_list[0].shape)\n",
    "for i, pred in enumerate(preds_list):\n",
    "    pred_tot += pred/len(preds_list)"
   ]
  },
  {
   "cell_type": "code",
   "execution_count": 44,
   "id": "ade97ce0-5a31-4651-a378-42dc05ecf9ce",
   "metadata": {},
   "outputs": [
    {
     "data": {
      "text/html": [
       "<div>\n",
       "<style scoped>\n",
       "    .dataframe tbody tr th:only-of-type {\n",
       "        vertical-align: middle;\n",
       "    }\n",
       "\n",
       "    .dataframe tbody tr th {\n",
       "        vertical-align: top;\n",
       "    }\n",
       "\n",
       "    .dataframe thead th {\n",
       "        text-align: right;\n",
       "    }\n",
       "</style>\n",
       "<table border=\"1\" class=\"dataframe\">\n",
       "  <thead>\n",
       "    <tr style=\"text-align: right;\">\n",
       "      <th></th>\n",
       "      <th>text_id</th>\n",
       "      <th>cohesion</th>\n",
       "      <th>syntax</th>\n",
       "      <th>vocabulary</th>\n",
       "      <th>phraseology</th>\n",
       "      <th>grammar</th>\n",
       "      <th>conventions</th>\n",
       "    </tr>\n",
       "  </thead>\n",
       "  <tbody>\n",
       "    <tr>\n",
       "      <th>0</th>\n",
       "      <td>0000C359D63E</td>\n",
       "      <td>2.834514</td>\n",
       "      <td>2.676057</td>\n",
       "      <td>3.022908</td>\n",
       "      <td>2.875986</td>\n",
       "      <td>2.672467</td>\n",
       "      <td>2.418565</td>\n",
       "    </tr>\n",
       "    <tr>\n",
       "      <th>1</th>\n",
       "      <td>000BAD50D026</td>\n",
       "      <td>2.794237</td>\n",
       "      <td>2.687908</td>\n",
       "      <td>2.786851</td>\n",
       "      <td>2.528409</td>\n",
       "      <td>2.319565</td>\n",
       "      <td>2.719576</td>\n",
       "    </tr>\n",
       "    <tr>\n",
       "      <th>2</th>\n",
       "      <td>00367BB2546B</td>\n",
       "      <td>3.401883</td>\n",
       "      <td>3.148318</td>\n",
       "      <td>3.381846</td>\n",
       "      <td>3.244108</td>\n",
       "      <td>3.121199</td>\n",
       "      <td>2.986397</td>\n",
       "    </tr>\n",
       "  </tbody>\n",
       "</table>\n",
       "</div>"
      ],
      "text/plain": [
       "        text_id  cohesion    syntax  vocabulary  phraseology   grammar  \\\n",
       "0  0000C359D63E  2.834514  2.676057    3.022908     2.875986  2.672467   \n",
       "1  000BAD50D026  2.794237  2.687908    2.786851     2.528409  2.319565   \n",
       "2  00367BB2546B  3.401883  3.148318    3.381846     3.244108  3.121199   \n",
       "\n",
       "   conventions  \n",
       "0     2.418565  \n",
       "1     2.719576  \n",
       "2     2.986397  "
      ]
     },
     "execution_count": 44,
     "metadata": {},
     "output_type": "execute_result"
    }
   ],
   "source": [
    "df_ss = pd.read_csv(\"data/sample_submission.csv\")\n",
    "sub = pd.DataFrame(pred_tot.numpy())\n",
    "sub.columns = df_ss.columns[1:]\n",
    "sub[\"text_id\"] = df_test[\"text_id\"]\n",
    "sub = sub[df_ss.columns]\n",
    "sub "
   ]
  },
  {
   "cell_type": "code",
   "execution_count": null,
   "id": "01d527e4-3052-4dc8-a5d6-d72182c7482b",
   "metadata": {},
   "outputs": [],
   "source": []
  }
 ],
 "metadata": {
  "kernelspec": {
   "display_name": "Python 3 (ipykernel)",
   "language": "python",
   "name": "python3"
  },
  "language_info": {
   "codemirror_mode": {
    "name": "ipython",
    "version": 3
   },
   "file_extension": ".py",
   "mimetype": "text/x-python",
   "name": "python",
   "nbconvert_exporter": "python",
   "pygments_lexer": "ipython3",
   "version": "3.9.13"
  }
 },
 "nbformat": 4,
 "nbformat_minor": 5
}
