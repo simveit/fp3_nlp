{
 "cells": [
  {
   "cell_type": "markdown",
   "id": "cb83587b-d99f-4ee0-bf22-f805c963682d",
   "metadata": {},
   "source": [
    "# Constants"
   ]
  },
  {
   "cell_type": "code",
   "execution_count": 16,
   "id": "540f398f-9b28-4edd-89fc-8d6dc886e283",
   "metadata": {},
   "outputs": [],
   "source": [
    "BASE_PATH = \"/notebooks\""
   ]
  },
  {
   "cell_type": "code",
   "execution_count": 23,
   "id": "ddc75ff9-bd93-413a-b27b-f456b1fd5ad2",
   "metadata": {},
   "outputs": [],
   "source": [
    "TRAIN_PATH = os.path.join(BASE_PATH, 'data/train/original/train.csv')\n",
    "CV_OUT_PATH = os.path.join(BASE_PATH, 'data/train/cv')"
   ]
  },
  {
   "cell_type": "markdown",
   "id": "8fd683c3-8f7c-4ff9-ae04-288edf475f76",
   "metadata": {
    "tags": []
   },
   "source": [
    "# Setup"
   ]
  },
  {
   "cell_type": "code",
   "execution_count": 24,
   "id": "0979b90b-c6ec-4590-8813-5f57ab467058",
   "metadata": {},
   "outputs": [
    {
     "name": "stdout",
     "output_type": "stream",
     "text": [
      "Requirement already satisfied: iterative-stratification in /usr/local/lib/python3.9/dist-packages (0.1.7)\n",
      "Requirement already satisfied: scipy in /usr/local/lib/python3.9/dist-packages (from iterative-stratification) (1.8.1)\n",
      "Requirement already satisfied: numpy in /usr/local/lib/python3.9/dist-packages (from iterative-stratification) (1.23.1)\n",
      "Requirement already satisfied: scikit-learn in /usr/local/lib/python3.9/dist-packages (from iterative-stratification) (1.1.1)\n",
      "Requirement already satisfied: threadpoolctl>=2.0.0 in /usr/local/lib/python3.9/dist-packages (from scikit-learn->iterative-stratification) (3.1.0)\n",
      "Requirement already satisfied: joblib>=1.0.0 in /usr/local/lib/python3.9/dist-packages (from scikit-learn->iterative-stratification) (1.1.0)\n",
      "\u001b[33mWARNING: Running pip as the 'root' user can result in broken permissions and conflicting behaviour with the system package manager. It is recommended to use a virtual environment instead: https://pip.pypa.io/warnings/venv\u001b[0m\u001b[33m\n",
      "\u001b[0m"
     ]
    }
   ],
   "source": [
    "!pip install iterative-stratification"
   ]
  },
  {
   "cell_type": "code",
   "execution_count": 35,
   "id": "e44301f9-81cb-41af-933a-56fb3c0988e6",
   "metadata": {},
   "outputs": [],
   "source": [
    "import pandas as pd\n",
    "from sklearn import model_selection\n",
    "from tqdm.auto import tqdm\n",
    "from iterstrat.ml_stratifiers import MultilabelStratifiedKFold"
   ]
  },
  {
   "cell_type": "code",
   "execution_count": 36,
   "id": "dfcc793e-a22a-4189-8a58-afdaa3003138",
   "metadata": {},
   "outputs": [],
   "source": [
    "def create_folds(data, num_splits):\n",
    "    data[\"fold\"] = -1\n",
    "\n",
    "    mskf = MultilabelStratifiedKFold(n_splits=num_splits, shuffle=True, random_state=42)\n",
    "    labels = [\"cohesion\", \"syntax\", \"vocabulary\", \"phraseology\", \"grammar\", \"conventions\"]\n",
    "    data_labels = data[labels].values\n",
    "\n",
    "    for f, (t_, v_) in enumerate(mskf.split(data, data_labels)):\n",
    "        data.loc[v_, \"fold\"] = f\n",
    "\n",
    "    return data"
   ]
  },
  {
   "cell_type": "code",
   "execution_count": 39,
   "id": "4b90701f-78d9-46a5-a01f-49e3cda88614",
   "metadata": {},
   "outputs": [],
   "source": [
    "def make_cv_data(df, out_path, kfolds=6):\n",
    "    df = create_folds(df, num_splits=kfolds)\n",
    "    for fold in range(kfolds):\n",
    "        print('Fold:', fold)\n",
    "        train_df = df.loc[df.fold!=fold].reset_index(drop=True).drop(columns=[\"fold\"])\n",
    "        val_df = df.loc[df.fold==fold].reset_index(drop=True).drop(columns=[\"fold\"])\n",
    "        train_df.to_csv(out_path + '/train_fold_' + str(fold) + '.csv', index = False)\n",
    "        val_df.to_csv(out_path + '/val_fold_' + str(fold) + '.csv', index = False)"
   ]
  },
  {
   "cell_type": "markdown",
   "id": "f7310b85-85fd-458d-8000-aca609b49646",
   "metadata": {},
   "source": [
    "# Create the splits"
   ]
  },
  {
   "cell_type": "code",
   "execution_count": 40,
   "id": "a05b931e-f752-4db0-9513-e511d1d77bad",
   "metadata": {},
   "outputs": [
    {
     "name": "stdout",
     "output_type": "stream",
     "text": [
      "Fold: 0\n",
      "Fold: 1\n",
      "Fold: 2\n",
      "Fold: 3\n",
      "Fold: 4\n",
      "Fold: 5\n"
     ]
    }
   ],
   "source": [
    "train_df = pd.read_csv(TRAIN_PATH)\n",
    "make_cv_data(df=train_df, out_path=CV_OUT_PATH)"
   ]
  },
  {
   "cell_type": "code",
   "execution_count": null,
   "id": "1f34fc46-93bd-4e83-9ddf-79d9ff16c730",
   "metadata": {},
   "outputs": [],
   "source": []
  }
 ],
 "metadata": {
  "kernelspec": {
   "display_name": "Python 3 (ipykernel)",
   "language": "python",
   "name": "python3"
  },
  "language_info": {
   "codemirror_mode": {
    "name": "ipython",
    "version": 3
   },
   "file_extension": ".py",
   "mimetype": "text/x-python",
   "name": "python",
   "nbconvert_exporter": "python",
   "pygments_lexer": "ipython3",
   "version": "3.9.13"
  }
 },
 "nbformat": 4,
 "nbformat_minor": 5
}
